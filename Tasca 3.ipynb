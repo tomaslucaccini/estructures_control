{
 "cells": [
  {
   "cell_type": "markdown",
   "metadata": {},
   "source": [
    "# Ejercicio 1"
   ]
  },
  {
   "cell_type": "code",
   "execution_count": 234,
   "metadata": {},
   "outputs": [
    {
     "name": "stdout",
     "output_type": "stream",
     "text": [
      "suspes\n",
      "None\n"
     ]
    }
   ],
   "source": [
    "# Función clasificación de acuerdo a nota: Suspes, Aprovat, Notable, Excel-lent.\n",
    "\n",
    "def calificacion(x):\n",
    "    if x == 10:\n",
    "        print(\"Excel-lent\")\n",
    "    elif x >= 8:\n",
    "        print(\"Notable\")\n",
    "    elif x >= 6:\n",
    "        print(\"Aprovat\")\n",
    "    else:\n",
    "        print(\"suspes\")\n",
    "print(calificacion(5))"
   ]
  },
  {
   "cell_type": "markdown",
   "metadata": {},
   "source": [
    "# Ejercicio 2"
   ]
  },
  {
   "cell_type": "code",
   "execution_count": 46,
   "metadata": {},
   "outputs": [
    {
     "name": "stdout",
     "output_type": "stream",
     "text": [
      "Ingresar número 1: 101\n",
      "Ingresar número 2: 103\n",
      "Número 2 es mayor a número 1\n"
     ]
    }
   ],
   "source": [
    "numero1 = input('Ingresar número 1: ')\n",
    "numero2 = input('Ingresar número 2: ')\n",
    "\n",
    "if numero1 > numero2:\n",
    "    print('Número 1 es mayor a número 2')\n",
    "elif numero2 > numero1:\n",
    "    print('Número 2 es mayor a número 1')\n",
    "else:\n",
    "    print('Número 1 y número 2 son iguales')\n",
    "    "
   ]
  },
  {
   "cell_type": "markdown",
   "metadata": {},
   "source": [
    "# Ejercicio 3"
   ]
  },
  {
   "cell_type": "code",
   "execution_count": 233,
   "metadata": {},
   "outputs": [
    {
     "name": "stdout",
     "output_type": "stream",
     "text": [
      "Ingresar nombre: Javi \n",
      "Ingresar numero: 3\n",
      "Javi Javi Javi \n"
     ]
    }
   ],
   "source": [
    "nombre = input('Ingresar nombre: ')\n",
    "numero = input('Ingresar numero: ')\n",
    "\n",
    "if int(numero) == 0:\n",
    "    print('Error')\n",
    "else:\n",
    "    print(nombre*int(numero))\n",
    "    "
   ]
  },
  {
   "cell_type": "markdown",
   "metadata": {},
   "source": [
    "# Ejercicio 4"
   ]
  },
  {
   "cell_type": "code",
   "execution_count": 212,
   "metadata": {},
   "outputs": [
    {
     "name": "stdout",
     "output_type": "stream",
     "text": [
      "Ingresar palabra: neuquen\n",
      "Es simétrica\n"
     ]
    }
   ],
   "source": [
    "# Algoritmo para determinar si una palabra es simétrica.\n",
    "\n",
    "palabra = input('Ingresar palabra: ')\n",
    "palabra = palabra.lower()\n",
    "palabra_invertida = palabra[::-1]\n",
    "largo = len(palabra)\n",
    "\n",
    "x = 0\n",
    "flag = 0\n",
    "\n",
    "for element in palabra:\n",
    "    if palabra[x] == palabra_invertida[x]:\n",
    "        flag += 1\n",
    "        x += 1\n",
    "    else:\n",
    "        flag += 0\n",
    "        x += 1\n",
    "\n",
    "if flag == largo:\n",
    "    print('Es simétrica')\n",
    "else:\n",
    "    print('No es simétrica')\n"
   ]
  },
  {
   "cell_type": "markdown",
   "metadata": {},
   "source": [
    "# Ejercicio 5"
   ]
  },
  {
   "cell_type": "code",
   "execution_count": 235,
   "metadata": {},
   "outputs": [
    {
     "name": "stdout",
     "output_type": "stream",
     "text": [
      "La cantidad de valores que coinciden con su índice son:  3\n"
     ]
    }
   ],
   "source": [
    "# Crear programa en el que se detalle cuántos números con el orden actual coinciden con su índice\n",
    "\n",
    "numero = [9, 1, 2, 3, 3]\n",
    "\n",
    "coincidencia = 0\n",
    "x = 0\n",
    "\n",
    "for element in numero:    \n",
    "    if numero[x] == x:\n",
    "        coincidencia += 1\n",
    "        x += 1\n",
    "    else:\n",
    "        coincidencia += 0\n",
    "        x += 1\n",
    "\n",
    "print(\"La cantidad de valores que coinciden con su índice son: \", coincidencia)\n"
   ]
  },
  {
   "cell_type": "markdown",
   "metadata": {},
   "source": []
  },
  {
   "cell_type": "code",
   "execution_count": null,
   "metadata": {},
   "outputs": [],
   "source": []
  }
 ],
 "metadata": {
  "kernelspec": {
   "display_name": "Python 3",
   "language": "python",
   "name": "python3"
  },
  "language_info": {
   "codemirror_mode": {
    "name": "ipython",
    "version": 3
   },
   "file_extension": ".py",
   "mimetype": "text/x-python",
   "name": "python",
   "nbconvert_exporter": "python",
   "pygments_lexer": "ipython3",
   "version": "3.7.4"
  }
 },
 "nbformat": 4,
 "nbformat_minor": 2
}
